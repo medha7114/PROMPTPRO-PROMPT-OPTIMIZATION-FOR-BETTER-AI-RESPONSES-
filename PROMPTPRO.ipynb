{
 "cells": [
  {
   "cell_type": "code",
   "execution_count": 1,
   "id": "13103075",
   "metadata": {},
   "outputs": [
    {
     "data": {
      "text/markdown": [
       "### Advanced Prompt Optimization for Better AI Responses"
      ],
      "text/plain": [
       "<IPython.core.display.Markdown object>"
      ]
     },
     "metadata": {},
     "output_type": "display_data"
    },
    {
     "data": {
      "text/markdown": [
       "\n",
       "    Welcome to the Advanced Prompt Optimization Tool. This tool will rewrite and optimize your prompts, providing real-time feedback and suggestions for better AI responses.\n",
       "   \n",
       "    ### Features of this Tool:\n",
       "    1. **Real-time optimization** of prompt structure, tone, and clarity.\n",
       "    2. **Support for multi-language prompt optimization.**\n",
       "    3. **Step-by-step feedback** on your input for further learning.\n",
       "    4. **Style, length, and tone adjustments** for better responses.\n",
       "    5. **A final summary** that breaks down improvements made to your prompt.\n",
       "    "
      ],
      "text/plain": [
       "<IPython.core.display.Markdown object>"
      ]
     },
     "metadata": {},
     "output_type": "display_data"
    },
    {
     "data": {
      "text/markdown": [
       "\n",
       "    #### Example Prompts Before and After Optimization:\n",
       "   \n",
       "    **Original Prompt:** \"What is AI?\"\n",
       "    **Optimized Prompt:** \"Can you provide a brief explanation of Artificial Intelligence (AI) and its key applications?\"\n",
       "\n",
       "    **Original Prompt:** \"Tell me about the economy.\"\n",
       "    **Optimized Prompt:** \"Please explain the current state of the global economy, focusing on key trends in 2024.\"\n",
       "\n",
       "    **Original Prompt:** \"Explain blockchain.\"\n",
       "    **Optimized Prompt:** \"Can you provide a detailed explanation of blockchain technology, including its use in cryptocurrency?\"\n",
       "   \n",
       "    **Original Prompt (Spanish):** \"¿Qué es inteligencia artificial?\"\n",
       "    **Optimized Prompt (Spanish):** \"¿Puede proporcionar una breve explicación sobre la inteligencia artificial (IA) y sus aplicaciones clave?\"\n",
       "    "
      ],
      "text/plain": [
       "<IPython.core.display.Markdown object>"
      ]
     },
     "metadata": {},
     "output_type": "display_data"
    },
    {
     "data": {
      "application/vnd.jupyter.widget-view+json": {
       "model_id": "3d927a69688849a8b84cbbf97a5ef55a",
       "version_major": 2,
       "version_minor": 0
      },
      "text/plain": [
       "Textarea(value='Enter your AI prompt here...', description='Prompt:', layout=Layout(height='150px', width='600…"
      ]
     },
     "metadata": {},
     "output_type": "display_data"
    },
    {
     "data": {
      "application/vnd.jupyter.widget-view+json": {
       "model_id": "01d4282754c048938a43cb25126aeb77",
       "version_major": 2,
       "version_minor": 0
      },
      "text/plain": [
       "Dropdown(description='Language:', layout=Layout(width='300px'), options=('English', 'Spanish', 'French', 'Germ…"
      ]
     },
     "metadata": {},
     "output_type": "display_data"
    },
    {
     "data": {
      "application/vnd.jupyter.widget-view+json": {
       "model_id": "70a24aebca914af99070b504dcb843d8",
       "version_major": 2,
       "version_minor": 0
      },
      "text/plain": [
       "Button(button_style='success', description='Optimize Prompt', style=ButtonStyle())"
      ]
     },
     "metadata": {},
     "output_type": "display_data"
    },
    {
     "data": {
      "application/vnd.jupyter.widget-view+json": {
       "model_id": "e2056219ccb84978b96f6884b0089744",
       "version_major": 2,
       "version_minor": 0
      },
      "text/plain": [
       "Output()"
      ]
     },
     "metadata": {},
     "output_type": "display_data"
    },
    {
     "data": {
      "text/markdown": [
       "\n",
       "    #### Final Summary:\n",
       "   \n",
       "    This session provided an advanced prompt optimization process that:\n",
       "    1. **Rewrote your prompt** for better clarity and structure.\n",
       "    2. **Removed vague or ambiguous words** to enhance the AI's understanding.\n",
       "    3. **Added specific guidelines** for length, tone, and format where necessary.\n",
       "    4. **Supported multiple languages** by translating prompts based on the selected language.\n",
       "   \n",
       "    ### Key Takeaways:\n",
       "    - Being specific with your request is crucial for precise responses.\n",
       "    - Avoid ambiguous language to prevent confusion.\n",
       "    - Context helps AI give better answers. If your prompt lacks context, try adding background information.\n",
       "    - Length and tone can dramatically affect how your prompt is interpreted, so consider adding those instructions.\n",
       "    "
      ],
      "text/plain": [
       "<IPython.core.display.Markdown object>"
      ]
     },
     "metadata": {},
     "output_type": "display_data"
    }
   ],
   "source": [
    "from IPython.display import display, Markdown, HTML\n",
    "import ipywidgets as widgets\n",
    "\n",
    "# Title and description display\n",
    "def display_title_and_description():\n",
    "    title = \"### Advanced Prompt Optimization for Better AI Responses\"\n",
    "    description = \"\"\"\n",
    "    Welcome to the Advanced Prompt Optimization Tool. This tool will rewrite and optimize your prompts, providing real-time feedback and suggestions for better AI responses.\n",
    "   \n",
    "    ### Features of this Tool:\n",
    "    1. **Real-time optimization** of prompt structure, tone, and clarity.\n",
    "    2. **Support for multi-language prompt optimization.**\n",
    "    3. **Step-by-step feedback** on your input for further learning.\n",
    "    4. **Style, length, and tone adjustments** for better responses.\n",
    "    5. **A final summary** that breaks down improvements made to your prompt.\n",
    "    \"\"\"\n",
    "    display(Markdown(title))\n",
    "    display(Markdown(description))\n",
    "\n",
    "# Function to optimize and rewrite the prompt\n",
    "def rewrite_prompt(prompt, language='English'):\n",
    "    optimized_prompt = prompt.strip()\n",
    "    suggestions = []\n",
    "   \n",
    "    # Step 1: Add clear intent if missing\n",
    "    if not any(keyword in prompt.lower() for keyword in ['explain', 'describe', 'compare', 'summarize', 'define']):\n",
    "        suggestions.append(\"It seems your prompt lacks a clear intent. Try adding phrases like 'explain', 'describe', or 'summarize'.\")\n",
    "        optimized_prompt = \"Please explain or provide an answer to the following: \" + optimized_prompt\n",
    "\n",
    "    # Step 2: Remove politeness markers (optional for AI)\n",
    "    if \"please\" in optimized_prompt.lower() or \"thank you\" in optimized_prompt.lower():\n",
    "        suggestions.append(\"AI does not require politeness markers like 'please' or 'thank you'.\")\n",
    "        optimized_prompt = optimized_prompt.replace(\"please\", \"\").replace(\"thank you\", \"\").strip()\n",
    "   \n",
    "    # Step 3: Limit length if too long\n",
    "    if len(optimized_prompt) > 300:\n",
    "        suggestions.append(\"The prompt is too long. Consider splitting it into smaller parts.\")\n",
    "        optimized_prompt = optimized_prompt[:300] + \" (truncated for clarity)\"\n",
    "   \n",
    "    # Step 4: Eliminate vague words\n",
    "    ambiguous_words = {\"maybe\": \"likely\", \"might\": \"will\", \"possibly\": \"probably\", \"could\": \"can\"}\n",
    "    for vague_word, replacement in ambiguous_words.items():\n",
    "        if vague_word in optimized_prompt.lower():\n",
    "            suggestions.append(f\"Avoid using the word '{vague_word}'. It's better to be more definite.\")\n",
    "            optimized_prompt = optimized_prompt.replace(vague_word, replacement)\n",
    "   \n",
    "    # Step 5: Ask for specific length or format if missing\n",
    "    if \"summarize\" in prompt.lower() and not any(word in prompt.lower() for word in ['50 words', '100 words', 'short', 'long']):\n",
    "        suggestions.append(\"Consider specifying the length for summaries (e.g., 'summarize in 50 words').\")\n",
    "        optimized_prompt += \" Summarize in around 50 words.\"\n",
    "   \n",
    "    if \"explain\" in prompt.lower() and not any(word in prompt.lower() for word in ['brief', 'detailed', 'formal', 'casual']):\n",
    "        suggestions.append(\"Consider specifying the tone of explanation (e.g., 'explain in a formal tone').\")\n",
    "        optimized_prompt += \" Provide a detailed explanation.\"\n",
    "   \n",
    "    # Step 6: Multi-language support\n",
    "    if language != 'English':\n",
    "        suggestions.append(f\"Optimizing for {language} language.\")\n",
    "        optimized_prompt = translate_prompt(optimized_prompt, language)\n",
    "   \n",
    "    return optimized_prompt, suggestions\n",
    "\n",
    "# Function to translate the prompt to another language (simulation)\n",
    "def translate_prompt(prompt, language):\n",
    "    translations = {\n",
    "        \"Spanish\": \"Este es un ejemplo de cómo optimizar un mensaje en español.\",\n",
    "        \"French\": \"Ceci est un exemple d'optimisation d'une invite en français.\",\n",
    "        \"German\": \"Dies ist ein Beispiel für die Optimierung eines Prompts auf Deutsch.\"\n",
    "    }\n",
    "    return translations.get(language, prompt)\n",
    "\n",
    "# Display the rewritten optimized prompt with suggestions\n",
    "def optimize_and_display(prompt, language='English'):\n",
    "    optimized_prompt, suggestions = rewrite_prompt(prompt, language)\n",
    "   \n",
    "    display(Markdown(\"#### Original Prompt:\"))\n",
    "    display(Markdown(f\"`{prompt}`\"))\n",
    "   \n",
    "    display(Markdown(\"#### Optimized Prompt:\"))\n",
    "    display(Markdown(f\"`{optimized_prompt}`\"))\n",
    "   \n",
    "    if suggestions:\n",
    "        display(Markdown(\"#### Suggestions:\"))\n",
    "        for suggestion in suggestions:\n",
    "            display(Markdown(f\"- {suggestion}\"))\n",
    "    else:\n",
    "        display(Markdown(\"- Your prompt is well optimized!\"))\n",
    "\n",
    "# Interactive widget setup\n",
    "def create_prompt_optimizer():\n",
    "    prompt_input = widgets.Textarea(\n",
    "        value='Enter your AI prompt here...',\n",
    "        placeholder='Type something',\n",
    "        description='Prompt:',\n",
    "        layout=widgets.Layout(width='600px', height='150px')\n",
    "    )\n",
    "   \n",
    "    language_selector = widgets.Dropdown(\n",
    "        options=['English', 'Spanish', 'French', 'German'],\n",
    "        value='English',\n",
    "        description='Language:',\n",
    "        layout=widgets.Layout(width='300px')\n",
    "    )\n",
    "   \n",
    "    button = widgets.Button(description=\"Optimize Prompt\", button_style='success')\n",
    "    output = widgets.Output()\n",
    "\n",
    "    def on_button_click(b):\n",
    "        with output:\n",
    "            output.clear_output()\n",
    "            optimize_and_display(prompt_input.value, language_selector.value)\n",
    "\n",
    "    button.on_click(on_button_click)\n",
    "   \n",
    "    # Display the input, language selector, button, and output\n",
    "    display(prompt_input)\n",
    "    display(language_selector)\n",
    "    display(button)\n",
    "    display(output)\n",
    "\n",
    "# Final detailed summary\n",
    "def display_summary():\n",
    "    summary = \"\"\"\n",
    "    #### Final Summary:\n",
    "   \n",
    "    This session provided an advanced prompt optimization process that:\n",
    "    1. **Rewrote your prompt** for better clarity and structure.\n",
    "    2. **Removed vague or ambiguous words** to enhance the AI's understanding.\n",
    "    3. **Added specific guidelines** for length, tone, and format where necessary.\n",
    "    4. **Supported multiple languages** by translating prompts based on the selected language.\n",
    "   \n",
    "    ### Key Takeaways:\n",
    "    - Being specific with your request is crucial for precise responses.\n",
    "    - Avoid ambiguous language to prevent confusion.\n",
    "    - Context helps AI give better answers. If your prompt lacks context, try adding background information.\n",
    "    - Length and tone can dramatically affect how your prompt is interpreted, so consider adding those instructions.\n",
    "    \"\"\"\n",
    "    display(Markdown(summary))\n",
    "\n",
    "# Display example prompts before and after optimization\n",
    "def display_example_prompts():\n",
    "    examples = \"\"\"\n",
    "    #### Example Prompts Before and After Optimization:\n",
    "   \n",
    "    **Original Prompt:** \"What is AI?\"\n",
    "    **Optimized Prompt:** \"Can you provide a brief explanation of Artificial Intelligence (AI) and its key applications?\"\n",
    "\n",
    "    **Original Prompt:** \"Tell me about the economy.\"\n",
    "    **Optimized Prompt:** \"Please explain the current state of the global economy, focusing on key trends in 2024.\"\n",
    "\n",
    "    **Original Prompt:** \"Explain blockchain.\"\n",
    "    **Optimized Prompt:** \"Can you provide a detailed explanation of blockchain technology, including its use in cryptocurrency?\"\n",
    "   \n",
    "    **Original Prompt (Spanish):** \"¿Qué es inteligencia artificial?\"\n",
    "    **Optimized Prompt (Spanish):** \"¿Puede proporcionar una breve explicación sobre la inteligencia artificial (IA) y sus aplicaciones clave?\"\n",
    "    \"\"\"\n",
    "    display(Markdown(examples))\n",
    "\n",
    "# Full interactive session\n",
    "display_title_and_description()\n",
    "display_example_prompts()\n",
    "create_prompt_optimizer()\n",
    "display_summary()"
   ]
  },
  {
   "cell_type": "code",
   "execution_count": null,
   "id": "7c911adc",
   "metadata": {},
   "outputs": [],
   "source": []
  }
 ],
 "metadata": {
  "kernelspec": {
   "display_name": "Python 3 (ipykernel)",
   "language": "python",
   "name": "python3"
  },
  "language_info": {
   "codemirror_mode": {
    "name": "ipython",
    "version": 3
   },
   "file_extension": ".py",
   "mimetype": "text/x-python",
   "name": "python",
   "nbconvert_exporter": "python",
   "pygments_lexer": "ipython3",
   "version": "3.11.5"
  }
 },
 "nbformat": 4,
 "nbformat_minor": 5
}
